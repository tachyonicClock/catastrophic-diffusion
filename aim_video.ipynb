{
 "cells": [
  {
   "cell_type": "code",
   "execution_count": 5,
   "metadata": {},
   "outputs": [],
   "source": [
    "run_hash = \"4097ed21c44149f594c765c4\"\n",
    "img_metric_name = \"Present\""
   ]
  },
  {
   "cell_type": "code",
   "execution_count": 6,
   "metadata": {},
   "outputs": [],
   "source": [
    "import aim\n",
    "from subprocess import Popen, PIPE\n",
    "from PIL.Image import Image\n",
    "from tqdm import tqdm\n",
    "\n",
    "\n",
    "repo = aim.Repo(path=\".\")\n",
    "\n",
    "\n",
    "run = repo.get_run(run_hash)"
   ]
  },
  {
   "cell_type": "code",
   "execution_count": 9,
   "metadata": {},
   "outputs": [
    {
     "name": "stderr",
     "output_type": "stream",
     "text": [
      "  7%|▋         | 1/15 [00:00<00:00, 91.28it/s]\n",
      "ffmpeg version 5.1.2 Copyright (c) 2000-2022 the FFmpeg developers\n",
      "  built with gcc 12.2.0 (GCC)\n",
      "  configuration: --enable-avfilter --enable-postproc --enable-rpath --disable-ffplay --enable-fontconfig --enable-libfreetype --enable-libass --enable-libaom --enable-libdav1d --disable-htmlpages --enable-gnutls --disable-mbedtls --disable-libopencore-amrnb --disable-libopencore-amrwb --disable-openssl --disable-libjack --enable-libpulse --disable-libtesseract --enable-libtheora --enable-libvorbis --enable-libmp3lame --enable-libopus --enable-libspeex --enable-libxvid --enable-libx264 --enable-libx265 --enable-vdpau --enable-vaapi --enable-libvpx --enable-libwebp --enable-libxcb --enable-libxcb-shape --enable-libxcb-shm --enable-libxcb-xfixes --enable-libbluray --arch=x86_64 --cc=gcc --disable-debug --disable-optimizations --disable-stripping --enable-gpl --enable-libxml2 --enable-pthreads --enable-shared --mandir=/usr/pkg/man --prefix=/usr/pkg --progs-suffix=5 --enable-runtime-cpudetect --datadir=/usr/pkg/share/ffmpeg5 --docdir=/usr/pkg/share/doc/ffmpeg5 --incdir=/usr/pkg/include/ffmpeg5 --libdir=/usr/pkg/lib/ffmpeg5 --shlibdir=/usr/pkg/lib/ffmpeg5\n",
      "  libavutil      57. 28.100 / 57. 28.100\n",
      "  libavcodec     59. 37.100 / 59. 37.100\n",
      "  libavformat    59. 27.100 / 59. 27.100\n",
      "  libavdevice    59.  7.100 / 59.  7.100\n",
      "  libavfilter     8. 44.100 /  8. 44.100\n",
      "  libswscale      6.  7.100 /  6.  7.100\n",
      "  libswresample   4.  7.100 /  4.  7.100\n",
      "  libpostproc    56.  6.100 / 56.  6.100\n",
      "Input #0, image2pipe, from 'pipe:':\n",
      "  Duration: N/A, bitrate: N/A\n",
      "  Stream #0:0: Video: mjpeg (Baseline), yuvj420p(pc, bt470bg/unknown/unknown), 662x662 [SAR 1:1 DAR 1:1], 24 fps, 24 tbr, 24 tbn\n",
      "Stream mapping:\n",
      "  Stream #0:0 -> #0:0 (mjpeg (native) -> h264 (libx264))\n",
      "[libx264 @ 0x556b32536240] using SAR=1/1\n",
      "[libx264 @ 0x556b32536240] using cpu capabilities: MMX2 SSE2Fast SSSE3 SSE4.2 AVX FMA3 BMI2 AVX2 AVX512\n",
      "[libx264 @ 0x556b32536240] profile High, level 3.1, 4:2:0, 8-bit\n",
      "[libx264 @ 0x556b32536240] 264 - core 164 - H.264/MPEG-4 AVC codec - Copyleft 2003-2022 - http://www.videolan.org/x264.html - options: cabac=1 ref=3 deblock=1:0:0 analyse=0x3:0x113 me=hex subme=7 psy=1 psy_rd=1.00:0.00 mixed_ref=1 me_range=16 chroma_me=1 trellis=1 8x8dct=1 cqm=0 deadzone=21,11 fast_pskip=1 chroma_qp_offset=-2 threads=21 lookahead_threads=3 sliced_threads=0 nr=0 decimate=1 interlaced=0 bluray_compat=0 constrained_intra=0 bframes=3 b_pyramid=2 b_adapt=1 b_bias=0 direct=1 weightb=1 open_gop=0 weightp=2 keyint=250 keyint_min=24 scenecut=40 intra_refresh=0 rc_lookahead=40 rc=crf mbtree=1 crf=23.0 qcomp=0.60 qpmin=0 qpmax=69 qpstep=4 ip_ratio=1.40 aq=1:1.00\n",
      "Output #0, mp4, to '/local/scratch/antonlee/video.mp4':\n",
      "  Metadata:\n",
      "    encoder         : Lavf59.27.100\n",
      "  Stream #0:0: Video: h264 (avc1 / 0x31637661), yuvj420p(pc, bt470bg/unknown/unknown, progressive), 662x662 [SAR 1:1 DAR 1:1], q=2-31, 24 fps, 12288 tbn\n",
      "    Metadata:\n",
      "      encoder         : Lavc59.37.100 libx264\n",
      "    Side data:\n",
      "      cpb: bitrate max/min/avg: 0/0/0 buffer size: 0 vbv_delay: N/A\n",
      "frame= 3127 fps= 19 q=-1.0 Lsize=   59794kB time=00:02:10.16 bitrate=3763.1kbits/s speed=0.806x    \n",
      "video:59756kB audio:0kB subtitle:0kB other streams:0kB global headers:0kB muxing overhead: 0.063914%\n",
      "[libx264 @ 0x556b32536240] frame I:14    Avg QP:23.80  size:239055\n",
      "[libx264 @ 0x556b32536240] frame P:795   Avg QP:25.64  size: 55544\n",
      "[libx264 @ 0x556b32536240] frame B:2318  Avg QP:33.92  size:  5904\n",
      "[libx264 @ 0x556b32536240] consecutive B-frames:  0.9%  0.7%  0.3% 98.1%\n",
      "[libx264 @ 0x556b32536240] mb I  I16..4:  0.2% 83.7% 16.1%\n",
      "[libx264 @ 0x556b32536240] mb P  I16..4:  0.0%  0.1%  0.0%  P16..4: 46.9% 23.6% 28.9%  0.0%  0.0%    skip: 0.5%\n",
      "[libx264 @ 0x556b32536240] mb B  I16..4:  0.0%  0.0%  0.0%  B16..8: 40.4%  6.2%  2.3%  direct:12.1%  skip:38.9%  L0:45.9% L1:40.8% BI:13.4%\n",
      "[libx264 @ 0x556b32536240] 8x8 transform intra:83.6% inter:80.6%\n",
      "[libx264 @ 0x556b32536240] coded y,uvDC,uvAC intra: 98.1% 99.3% 94.5% inter: 47.8% 52.4% 25.3%\n",
      "[libx264 @ 0x556b32536240] i16 v,h,dc,p: 49% 51%  0%  0%\n",
      "[libx264 @ 0x556b32536240] i8 v,h,dc,ddl,ddr,vr,hd,vl,hu: 16% 15% 14%  6%  9% 10%  8% 10% 12%\n",
      "[libx264 @ 0x556b32536240] i4 v,h,dc,ddl,ddr,vr,hd,vl,hu: 27% 23%  7%  6%  7%  7%  7%  7% 10%\n",
      "[libx264 @ 0x556b32536240] i8c dc,h,v,p: 59% 13% 14% 14%\n",
      "[libx264 @ 0x556b32536240] Weighted P-Frames: Y:66.3% UV:60.6%\n",
      "[libx264 @ 0x556b32536240] ref P L0: 38.0% 14.6% 15.5% 19.1% 12.8%\n",
      "[libx264 @ 0x556b32536240] ref B L0: 58.5% 37.3%  4.2%\n",
      "[libx264 @ 0x556b32536240] ref B L1: 76.1% 23.9%\n",
      "[libx264 @ 0x556b32536240] kb/s:3757.07\n"
     ]
    },
    {
     "data": {
      "text/plain": [
       "0"
      ]
     },
     "execution_count": 9,
     "metadata": {},
     "output_type": "execute_result"
    }
   ],
   "source": [
    "query = f'(images.name == \"Past\") and (run.hash == \"{run_hash}\")'\n",
    "image_seq = next(repo.query_images(query).iter())\n",
    "\n",
    "ffmpeg = Popen(\n",
    "    [\n",
    "        \"ffmpeg\",\n",
    "        \"-y\",\n",
    "        \"-f\",\n",
    "        \"image2pipe\",\n",
    "        \"-vcodec\",\n",
    "        \"mjpeg\",\n",
    "        \"-r\",\n",
    "        \"24\",\n",
    "        \"-i\",\n",
    "        \"-\",\n",
    "        \"-r\",\n",
    "        \"24\",\n",
    "        \"/local/scratch/antonlee/video.mp4\",\n",
    "    ],\n",
    "    stdin=PIPE,\n",
    ")\n",
    "\n",
    "# frames = 1000\n",
    "\n",
    "for i, aim_image in enumerate(image_seq.values.values()):\n",
    "    frame: Image = aim_image.to_pil_image()\n",
    "    frame.save(ffmpeg.stdin, \"JPEG\")\n",
    "    # if i > frames:\n",
    "    # break\n",
    "\n",
    "ffmpeg.stdin.close()\n",
    "ffmpeg.wait()"
   ]
  }
 ],
 "metadata": {
  "kernelspec": {
   "display_name": "Python 3",
   "language": "python",
   "name": "python3"
  },
  "language_info": {
   "codemirror_mode": {
    "name": "ipython",
    "version": 3
   },
   "file_extension": ".py",
   "mimetype": "text/x-python",
   "name": "python",
   "nbconvert_exporter": "python",
   "pygments_lexer": "ipython3",
   "version": "3.10.9"
  },
  "orig_nbformat": 4
 },
 "nbformat": 4,
 "nbformat_minor": 2
}
