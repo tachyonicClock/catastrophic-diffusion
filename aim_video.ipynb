{
 "cells": [
  {
   "cell_type": "code",
   "execution_count": 11,
   "metadata": {},
   "outputs": [],
   "source": [
    "run_hash = \"56e91f8003734ae696c008f7\"\n",
    "img_metric_name = \"PastSampledImages\""
   ]
  },
  {
   "cell_type": "code",
   "execution_count": 21,
   "metadata": {},
   "outputs": [],
   "source": [
    "import aim\n",
    "repo = aim.Repo(path=\".\")\n",
    "\n",
    "\n",
    "run = repo.get_run(run_hash)"
   ]
  },
  {
   "cell_type": "code",
   "execution_count": 25,
   "metadata": {},
   "outputs": [
    {
     "ename": "TypeError",
     "evalue": "BasicRun.get_image_sequence() missing 2 required positional arguments: 'name' and 'context'",
     "output_type": "error",
     "traceback": [
      "\u001b[0;31m---------------------------------------------------------------------------\u001b[0m",
      "\u001b[0;31mTypeError\u001b[0m                                 Traceback (most recent call last)",
      "Cell \u001b[0;32mIn[25], line 1\u001b[0m\n\u001b[0;32m----> 1\u001b[0m \u001b[39mlist\u001b[39m(run\u001b[39m.\u001b[39;49mget_image_sequence())\n",
      "\u001b[0;31mTypeError\u001b[0m: BasicRun.get_image_sequence() missing 2 required positional arguments: 'name' and 'context'"
     ]
    }
   ],
   "source": [
    "\n",
    "list(run.get_image_sequence())"
   ]
  }
 ],
 "metadata": {
  "kernelspec": {
   "display_name": "Python 3",
   "language": "python",
   "name": "python3"
  },
  "language_info": {
   "codemirror_mode": {
    "name": "ipython",
    "version": 3
   },
   "file_extension": ".py",
   "mimetype": "text/x-python",
   "name": "python",
   "nbconvert_exporter": "python",
   "pygments_lexer": "ipython3",
   "version": "3.10.9"
  },
  "orig_nbformat": 4
 },
 "nbformat": 4,
 "nbformat_minor": 2
}
